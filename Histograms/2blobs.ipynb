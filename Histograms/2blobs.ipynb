{
 "cells": [
  {
   "cell_type": "markdown",
   "metadata": {},
   "source": [
    "## Template - do not modify, duplicate"
   ]
  },
  {
   "cell_type": "code",
   "execution_count": 1,
   "metadata": {},
   "outputs": [],
   "source": [
    "import numpy as np\n",
    "import matplotlib.pyplot as plt\n",
    "\n",
    "plt.rcParams['figure.figsize'] = (10.0, 8.0) \n",
    "plt.rcParams['image.interpolation'] = 'nearest'\n",
    "plt.rcParams['image.cmap'] = 'Spectral'"
   ]
  },
  {
   "cell_type": "code",
   "execution_count": 2,
   "metadata": {},
   "outputs": [],
   "source": [
    "def sigmoid(z) :\n",
    "    \"\"\"\n",
    "    Returns the sigmoid function of the given input\n",
    "    \"\"\"\n",
    "    return 1 /(1 + np.exp(-z))\n",
    "\n",
    "def sigmoid_prime(z) :\n",
    "    \"\"\"\n",
    "    Returns the derivative of the sigmoid function of the given input\n",
    "    \"\"\"\n",
    "    return sigmoid(z)*(1-sigmoid(z))\n",
    "\n",
    "def fp(x, eps):\n",
    "    \"\"\"\n",
    "    Returns the value the SReLU takes in the interval -eps to eps\n",
    "    \n",
    "    The polynomial satifies the following conditions:\n",
    "    fp(eps) = eps\n",
    "    fp'(eps) = 1\n",
    "    fp(-eps) = 0\n",
    "    fp'(-eps) = 0\n",
    "    \n",
    "    \"\"\"\n",
    "    a_0 = eps/4\n",
    "    a_1 = 0.5\n",
    "    a_2 = 1/(4*eps)\n",
    "    a_3 = 0\n",
    "    \n",
    "    return  a_0 + a_1*x + a_2*x**2 + a_3*x**3 \n",
    "\n",
    "def SReLU(x, eps):\n",
    "    \"\"\"\n",
    "    Returns a smoothed ReLU function with parameter epsilon\n",
    "    \"\"\"\n",
    "    return fp(x, eps)*(np.abs(x) < eps) + x*(x >= eps)\n",
    "\n",
    "\n",
    "def fp_prime(x, eps):\n",
    "    \"\"\"\n",
    "    Returns derivative of the fp(x) with respect to x\n",
    "    \"\"\"\n",
    "    a_0 = eps/4\n",
    "    a_1 = 0.5\n",
    "    a_2 = 1/(4*eps)\n",
    "    a_3 = 0\n",
    "    \n",
    "    return  a_1 + 2*a_2*x + 3*a_3*x**2 \n",
    "\n",
    "def SReLU_prime(x,eps):\n",
    "    \"\"\"\n",
    "    Returns the derivative of the smoothed ReLU function\n",
    "    \"\"\"\n",
    "    return fp_prime(x, eps)*(np.abs(x) < eps) + 1*(x >= eps)\n",
    "\n",
    "def relu(z): \n",
    "    \"\"\"\n",
    "    Returns the rectified linear unit applied to the given input \n",
    "    \"\"\"\n",
    "    return np.maximum(0,z)\n",
    "\n",
    "def relu_prime(z) :\n",
    "    \"\"\"\n",
    "    Returns the derivative of rectified linear unit applied to the given input \n",
    "    \"\"\"\n",
    "    return 1*(z>=0)\n",
    "\n",
    "def SReLU_prime_wrt_eps(x,eps):\n",
    "    \"\"\"\n",
    "    Returns the derivative of the SReLU function\n",
    "    with respect to epsilon given the input and parameter eps\n",
    "    \"\"\"\n",
    "    return (1/4-(x**2)/(4*eps**2))*(np.abs(x) < eps)"
   ]
  },
  {
   "cell_type": "code",
   "execution_count": 3,
   "metadata": {},
   "outputs": [
    {
     "data": {
      "image/png": "[encoded data removed]",
      "text/plain": [
       "<Figure size 432x288 with 1 Axes>"
      ]
     },
     "metadata": {
      "needs_background": "light"
     },
     "output_type": "display_data"
    }
   ],
   "source": [
    "from sklearn.datasets import make_blobs\n",
    "\n",
    "N = 400 # no. points\n",
    "\n",
    "X, y = make_blobs(n_samples = N, centers = [(2,-2),(-2,2)], \n",
    "                  n_features = 2, cluster_std = 0.8, random_state = 1)\n",
    "labels_orig = y\n",
    "y = np.mod(labels_orig, 2)\n",
    "y = y.reshape(y.shape[0],1)\n",
    "\n",
    "plt.title('2 Gaussian Blobs dataset')\n",
    "plt.plot(X[y[:,0]==0,0], X[y[:,0]==0,1], color='tab:red', marker='.', linestyle='None',label='class 1')\n",
    "plt.plot(X[y[:,0]==1,0], X[y[:,0]==1,1], color='tab:blue', marker='.', linestyle='None', label='class 2')\n",
    "plt.legend()\n",
    "plt.show()"
   ]
  },
  {
   "cell_type": "code",
   "execution_count": 4,
   "metadata": {},
   "outputs": [],
   "source": [
    "def plotboundary_accuracy(X, y, W1, b1, W2, b2,eps):\n",
    "    \"\"\"\n",
    "    Returns the accuracy for the given parameters and plots the decision boundary of the data\n",
    "    \"\"\"\n",
    "    predicted_class = sigmoid(np.dot(SReLU(np.dot(X, W1) + b1,eps), W2) + b2)\n",
    "    print('Accuracy: %.2f %%' % (100*np.mean((predicted_class >0.5) == y)))\n",
    "\n",
    "    x_min, x_max = X[:, 0].min() - 1, X[:, 0].max() + 1\n",
    "    y_min, y_max = X[:, 1].min() - 1, X[:, 1].max() + 1\n",
    "    xx, yy = np.meshgrid(np.arange(x_min, x_max, 0.02),np.arange(y_min, y_max, 0.02))\n",
    "    Z_axis = sigmoid(np.dot(SReLU(np.dot(np.c_[xx.ravel(), yy.ravel()], W1) + b1,eps), W2) + b2)\n",
    "    Z_axis = (Z_axis > 0.5)\n",
    "    Z_axis = Z_axis.reshape(xx.shape)\n",
    "    plt.contourf(xx, yy, Z_axis, cmap=plt.cm.Spectral, alpha=0.8)\n",
    "    plt.scatter(X[:, 0], X[:, 1], c=y[:,0], s=40, cmap=plt.cm.Spectral)\n",
    "    plt.xlim(xx.min(), xx.max())\n",
    "    plt.ylim(yy.min(), yy.max())"
   ]
  },
  {
   "cell_type": "code",
   "execution_count": 5,
   "metadata": {},
   "outputs": [],
   "source": [
    "def initialize_parameters(n_x,n_y,n_h):\n",
    "    \"\"\"\n",
    "     Initialization of the weights and biases for the neural network\n",
    "     n_x: number of inputs nodes\n",
    "     n_y: number of output nodes\n",
    "     n_h: number of hidden nodes\n",
    "    \"\"\"\n",
    "    \n",
    "    np.random.seed(1)                   # Random seed for weights\n",
    "    W1 = 1 * np.random.randn(n_x,n_h) # [n_x, n_h ]\n",
    "    b1 = np.zeros((1,n_h))              # [1, n_h ]\n",
    "    W2 = 1 * np.random.randn(n_h,n_y) # [n_h, n_y ]\n",
    "    b2 = np.zeros((1,n_y))              # [1, n_y ]\n",
    "    np.random.seed(None)              # Random seed for weighs\n",
    "    \n",
    "    return W1, b1, W2, b2   # Return initalise weights and biases"
   ]
  },
  {
   "cell_type": "code",
   "execution_count": 6,
   "metadata": {},
   "outputs": [],
   "source": [
    "def forward_prop(X, W1, b1, W2, b2,eps):\n",
    "    \"\"\"\n",
    "     Return the parameters after one foward pass \n",
    "     N: Number of points per class\n",
    "     X: dimension [2N, n_x]\n",
    "     n_x: number of inputs nodes\n",
    "     n_y: number of output nodes\n",
    "     n_h: number of hidden nodes\n",
    "     \n",
    "    \"\"\"\n",
    "    Z1 = np.dot(X, W1) + b1   # [2N, n_h]\n",
    "    A1 = SReLU(Z1,eps) # [2N, n_h]\n",
    "    Z2 = np.dot(A1, W2) + b2  # [2N, n_y]\n",
    "    A2 = sigmoid(Z2)          # [2N, n_y]\n",
    "    \n",
    "    return Z1, A1, Z2, A2"
   ]
  },
  {
   "cell_type": "code",
   "execution_count": 7,
   "metadata": {},
   "outputs": [],
   "source": [
    "def cost(Y, A2):\n",
    "    \"\"\"\n",
    "    Returns the L2 error between the predicted values \n",
    "    by the network A2 and the actual values of the data Y\n",
    "    \"\"\"\n",
    "    m = Y.shape[0]\n",
    "    return np.sum(np.square(Y-A2))/m\n"
   ]
  },
  {
   "cell_type": "code",
   "execution_count": 8,
   "metadata": {},
   "outputs": [],
   "source": [
    "def back_prop(X,y, Z1, A1, Z2, A2, reg, eps):\n",
    "    \"\"\"\n",
    "     Return the gradient of parameters with respect to the loss after one foward pass \n",
    "     reg: regularisation parameter\n",
    "     eps: smoothed ReLU parameter epsilon\n",
    "     N: Number of points per class\n",
    "     X: dimension [2N, n_x]\n",
    "     n_x: number of inputs nodes\n",
    "     n_y: number of output nodes\n",
    "     n_h: number of hidden nodes\n",
    "     \"\"\"\n",
    "    \n",
    "    m = X.shape[0]                # Number of data points in total, 2N\n",
    "    \n",
    "    dZ2 = -2*(y-A2)/m     # Derivative of cross-entropy loss is (A2-y), [m,1]\n",
    "    dZ2 = dZ2*sigmoid_prime(Z2)   # Derivative with respect to Z2, [m,1]\n",
    "\n",
    "    dW2 = np.dot(A1.T, dZ2)                     # Derivative with respect to W2, [n_h, n_y ]\n",
    "    db2 = np.sum(dZ2, axis=0, keepdims=True)    # Derivative with respect to b2, [1, n_y ]\n",
    "\n",
    "    dA1 = np.dot(dZ2, W2.T)                             # Derivative with respect to A1, [m, n_h]\n",
    "    dZ1 = np.multiply(dA1, SReLU_prime(Z1,eps))  # Derivative with respect to Z1, [m, n_h]\n",
    "    \n",
    "    # Derivative with respect to epsilon, [1, 1]\n",
    "    depsilon = np.sum(np.multiply(dA1,SReLU_prime_wrt_eps(Z1,eps))) # SUM over two axis \n",
    "    \n",
    "    dW1 = np.dot(X.T, dZ1)                   # Derivative with respect to W1, [n_x, n_h]\n",
    "    db1 = np.sum(dZ1, axis=0, keepdims=True) # Derivative with respect to b1, [1, n_h]\n",
    "\n",
    "    dW2 = dW2 + reg * W2 # regularisation of weight W2\n",
    "    dW1 = dW1 + reg * W1 # regularisation of weight W1\n",
    "    #depsilon = depsilon + reg * eps # regularisation of weight W1\n",
    "\n",
    "    return dW1, db1, dW2, db2, depsilon"
   ]
  },
  {
   "cell_type": "code",
   "execution_count": 9,
   "metadata": {},
   "outputs": [],
   "source": [
    "def update_parameters(W1, b1, W2, b2, epsilon_vector, dW1, db1, dW2, db2, depsilon_vector, learning_rate):\n",
    "    \"\"\"\n",
    "    Returns the updated values of the parameters \n",
    "    after the given interation \n",
    "    \"\"\"\n",
    "    \n",
    "    W1 = W1 - dW1 * learning_rate\n",
    "    b1 = b1 - db1 * learning_rate\n",
    "    W2 = W2 - dW2 * learning_rate\n",
    "    b2 = b2 - db2 * learning_rate\n",
    "    epsilon_vector = epsilon_vector - depsilon_vector*0.1\n",
    "    \n",
    "    return W1, b1, W2, b2, epsilon_vector"
   ]
  },
  {
   "cell_type": "code",
   "execution_count": 10,
   "metadata": {},
   "outputs": [],
   "source": [
    "# Setting parameters\n",
    "epochs = 10000\n",
    "learning_rate = 0.2\n",
    "runs = 1\n",
    "reg = 0"
   ]
  },
  {
   "cell_type": "code",
   "execution_count": 11,
   "metadata": {
    "scrolled": true
   },
   "outputs": [],
   "source": [
    "n_h = 1\n",
    "n_x = 2\n",
    "n_y = 1\n",
    "\n",
    "epsilon_iter = np.zeros(epochs+1)\n",
    "Z1_iter = np.zeros((epochs, 400, n_h))\n",
    "    \n",
    "W1, b1, W2, b2 = initialize_parameters(2,1,n_h)\n",
    "epsilon_vector = 0.5\n",
    "epsilon_iter[0]= epsilon_vector\n",
    "        \n",
    "for i in range(epochs):\n",
    "    \n",
    "    Z1, A1, Z2, A2 = forward_prop(X, W1, b1, W2, b2,epsilon_vector)\n",
    "            \n",
    "    dW1, db1, dW2, db2,depsilon = back_prop(X,y, Z1, A1, Z2, A2, reg, epsilon_vector)\n",
    "        \n",
    "    W1, b1, W2, b2, epsilon_vector= update_parameters(W1, b1, W2, b2, epsilon_vector, \n",
    "                                                      dW1, db1, dW2, db2, depsilon, learning_rate)   \n",
    "    epsilon_iter[i+1] = epsilon_vector\n",
    "    Z1_iter[i,:] = Z1\n",
    "        "
   ]
  },
  {
   "cell_type": "code",
   "execution_count": 12,
   "metadata": {},
   "outputs": [
    {
     "data": {
      "image/png": "[encoded data removed]",
      "text/plain": [
       "<Figure size 432x288 with 1 Axes>"
      ]
     },
     "metadata": {
      "needs_background": "light"
     },
     "output_type": "display_data"
    }
   ],
   "source": [
    "plt.hist(epsilon_iter, histtype='bar', ec='black')\n",
    "plt.title(r'$\\varepsilon$ values 2-blobs',fontsize=15)\n",
    "plt.xlabel(r'$\\varepsilon$', fontsize=15)\n",
    "plt.ylabel('Frequency',fontsize=15)\n",
    "plt.xticks(fontsize = 15) \n",
    "plt.yticks(fontsize = 15) \n",
    "\n",
    "plt.show()"
   ]
  }
 ],
 "metadata": {
  "kernelspec": {
   "display_name": "Python 3",
   "language": "python",
   "name": "python3"
  },
  "language_info": {
   "codemirror_mode": {
    "name": "ipython",
    "version": 3
   },
   "file_extension": ".py",
   "mimetype": "text/x-python",
   "name": "python",
   "nbconvert_exporter": "python",
   "pygments_lexer": "ipython3",
   "version": "3.7.3"
  }
 },
 "nbformat": 4,
 "nbformat_minor": 2
}
