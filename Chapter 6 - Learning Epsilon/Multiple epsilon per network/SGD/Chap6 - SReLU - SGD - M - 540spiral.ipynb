{
 "cells": [
  {
   "cell_type": "code",
   "execution_count": 14,
   "metadata": {},
   "outputs": [],
   "source": [
    "import numpy as np\n",
    "import matplotlib.pyplot as plt\n",
    "\n",
    "plt.rcParams['figure.figsize'] = (10.0, 8.0) \n",
    "plt.rcParams['image.interpolation'] = 'nearest'\n",
    "plt.rcParams['image.cmap'] = 'Spectral'"
   ]
  },
  {
   "cell_type": "code",
   "execution_count": 15,
   "metadata": {},
   "outputs": [],
   "source": [
    "def sigmoid(z) :\n",
    "    \"\"\"\n",
    "    Returns the sigmoid function of the given input\n",
    "    \"\"\"\n",
    "    return 1 /(1 + np.exp(-z))\n",
    "\n",
    "def sigmoid_prime(z) :\n",
    "    \"\"\"\n",
    "    Returns the derivative of the sigmoid function of the given input\n",
    "    \"\"\"\n",
    "    return sigmoid(z)*(1-sigmoid(z))\n",
    "\n",
    "def fp(x, eps):\n",
    "    \"\"\"\n",
    "    Returns the value the SReLU takes in the interval -eps to eps\n",
    "    \n",
    "    The polynomial satifies the following conditions:\n",
    "    fp(eps) = eps\n",
    "    fp'(eps) = 1\n",
    "    fp(-eps) = 0\n",
    "    fp'(-eps) = 0\n",
    "    \n",
    "    \"\"\"\n",
    "    a_0 = eps/4\n",
    "    a_1 = 0.5\n",
    "    a_2 = 1/(4*eps)\n",
    "    a_3 = 0\n",
    "    \n",
    "    return  a_0 + a_1*x + a_2*x**2 + a_3*x**3 \n",
    "\n",
    "def SReLU(x, eps):\n",
    "    \"\"\"\n",
    "    Returns a smoothed ReLU function with parameter epsilon\n",
    "    \"\"\"\n",
    "    return fp(x, eps)*(np.abs(x) < eps) + x*(x >= eps)\n",
    "\n",
    "\n",
    "def fp_prime(x, eps):\n",
    "    \"\"\"\n",
    "    Returns derivative of the fp(x) with respect to x\n",
    "    \"\"\"\n",
    "    a_0 = eps/4\n",
    "    a_1 = 0.5\n",
    "    a_2 = 1/(4*eps)\n",
    "    a_3 = 0\n",
    "    \n",
    "    return  a_1 + 2*a_2*x + 3*a_3*x**2 \n",
    "\n",
    "def SReLU_prime(x,eps):\n",
    "    \"\"\"\n",
    "    Returns the derivative of the smoothed ReLU function\n",
    "    \"\"\"\n",
    "    return fp_prime(x, eps)*(np.abs(x) < eps) + 1*(x >= eps)\n",
    "\n",
    "def relu(z): \n",
    "    \"\"\"\n",
    "    Returns the rectified linear unit applied to the given input \n",
    "    \"\"\"\n",
    "    return np.maximum(0,z)\n",
    "\n",
    "def relu_prime(z) :\n",
    "    \"\"\"\n",
    "    Returns the derivative of rectified linear unit applied to the given input \n",
    "    \"\"\"\n",
    "    return 1*(z>=0)\n",
    "\n",
    "def SReLU_prime_wrt_eps(x,eps):\n",
    "    \"\"\"\n",
    "    Returns the derivative of the SReLU function\n",
    "    with respect to epsilon given the input and parameter eps\n",
    "    \"\"\"\n",
    "    return (1/4-(x**2)/(4*eps**2))*(np.abs(x) < eps)"
   ]
  },
  {
   "cell_type": "code",
   "execution_count": 16,
   "metadata": {},
   "outputs": [
    {
     "data": {
      "image/png": "[encoded data removed]",
      "text/plain": [
       "<Figure size 720x576 with 1 Axes>"
      ]
     },
     "metadata": {
      "needs_background": "light"
     },
     "output_type": "display_data"
    }
   ],
   "source": [
    "N = 200 # no. points per class\n",
    "D = 2 # Dimensionaly\n",
    "K = 2 # Number of classes\n",
    "X = np.zeros((N*2,2))\n",
    "y = np.zeros((N*2,1), dtype='uint8')\n",
    "\n",
    "def twospirals(n_points, noise=.5):\n",
    "    \"\"\"\n",
    "     Returns the two spirals dataset with N data points per class K for X and N data points for Y\n",
    "    \"\"\"\n",
    "    np.random.seed(1)  # Random seed for data\n",
    "    n = np.sqrt(np.random.rand(n_points,1)) * 540 * (2*np.pi)/360\n",
    "    d1x = -np.cos(n)*n + np.random.rand(n_points,1) * noise\n",
    "    d1y = np.sin(n)*n + np.random.rand(n_points,1) * noise\n",
    "    \n",
    "    return (np.vstack((np.hstack((d1x,d1y)),np.hstack((-d1x,-d1y)))), \n",
    "            np.where(np.hstack((np.zeros(n_points),np.ones(n_points))) > 0.5, 1, 0))\n",
    "\n",
    "X, y[:,0] = twospirals(N)\n",
    "\n",
    "plt.title('training set')\n",
    "plt.plot(X[y[:,0]==0,0], X[y[:,0]==0,1], color='tab:red', marker='.', linestyle='None',label='class 1')\n",
    "plt.plot(X[y[:,0]==1,0], X[y[:,0]==1,1], color='tab:blue', marker='.', linestyle='None', label='class 2')\n",
    "plt.legend()\n",
    "plt.show()"
   ]
  },
  {
   "cell_type": "code",
   "execution_count": 17,
   "metadata": {},
   "outputs": [],
   "source": [
    "def plotboundary_accuracy(X, y, W1, b1, W2, b2,eps):\n",
    "    \"\"\"\n",
    "    Returns the accuracy for the given parameters and plots the decision boundary of the data\n",
    "    \"\"\"\n",
    "    predicted_class = np.dot(SReLU(np.dot(X, W1) + b1,eps), W2) + b2\n",
    "    print('Accuracy: %.0f %%' % (100*np.mean((predicted_class >0.5) == y)))\n",
    "\n",
    "    x_min, x_max = X[:, 0].min() - 1, X[:, 0].max() + 1\n",
    "    y_min, y_max = X[:, 1].min() - 1, X[:, 1].max() + 1\n",
    "    xx, yy = np.meshgrid(np.arange(x_min, x_max, 0.02),np.arange(y_min, y_max, 0.02))\n",
    "    Z_axis = np.dot(SReLU(np.dot(np.c_[xx.ravel(), yy.ravel()], W1) + b1,eps), W2) + b2\n",
    "    Z_axis = (Z_axis > 0.5)\n",
    "    Z_axis = Z_axis.reshape(xx.shape)\n",
    "    plt.contourf(xx, yy, Z_axis, cmap=plt.cm.Spectral, alpha=0.8)\n",
    "    plt.scatter(X[:, 0], X[:, 1], c=y[:,0], s=40, cmap=plt.cm.Spectral)\n",
    "    plt.xlim(xx.min(), xx.max())\n",
    "    plt.ylim(yy.min(), yy.max())"
   ]
  },
  {
   "cell_type": "code",
   "execution_count": 18,
   "metadata": {},
   "outputs": [],
   "source": [
    "def initialize_parameters(n_x,n_y,n_h):\n",
    "    \"\"\"\n",
    "     Initialization of the weights and biases for the neural network\n",
    "     n_x: number of inputs nodes\n",
    "     n_y: number of output nodes\n",
    "     n_h: number of hidden nodes\n",
    "    \"\"\"\n",
    "    #np.random.seed(1)                   # Random seed for weights\n",
    "    W1 = 1.0 * np.random.randn(n_x,n_h)/np.sqrt(n_x)  # [n_x, n_h ]\n",
    "    b1 = np.zeros((1,n_h))              # [1, n_h ]\n",
    "    W2 = 1.0 * np.random.randn(n_h,n_y)/np.sqrt(n_h) # [n_h, n_y ]\n",
    "    b2 = np.zeros((1,n_y))              # [1, n_y ]\n",
    "    #np.random.seed(None)              # Random seed for weighs\n",
    "    \n",
    "    return W1, b1, W2, b2   # Return initalise weights and biases"
   ]
  },
  {
   "cell_type": "code",
   "execution_count": 19,
   "metadata": {},
   "outputs": [],
   "source": [
    "def forward_prop(X, W1, b1, W2, b2,eps):\n",
    "    \"\"\"\n",
    "     Return the parameters after one foward pass \n",
    "     N: Number of points per class\n",
    "     X: dimension [2N, n_x]\n",
    "     n_x: number of inputs nodes\n",
    "     n_y: number of output nodes\n",
    "     n_h: number of hidden nodes\n",
    "     \n",
    "    \"\"\"\n",
    "    Z1 = np.dot(X, W1) + b1   # [2N, n_h]\n",
    "    A1 = SReLU(Z1,eps) # [2N, n_h]\n",
    "    Z2 = np.dot(A1, W2) + b2  # [2N, n_y]\n",
    "    A2 = sigmoid(Z2)          # [2N, n_y]\n",
    "    \n",
    "    return Z1, A1, Z2, A2"
   ]
  },
  {
   "cell_type": "code",
   "execution_count": 20,
   "metadata": {},
   "outputs": [],
   "source": [
    "def cost(Y, A2):\n",
    "    \"\"\"\n",
    "    Returns the L2 error between the predicted values \n",
    "    by the network A2 and the actual values of the data Y\n",
    "    \"\"\"\n",
    "    m = Y.shape[0]\n",
    "    return np.sum(np.square(A2-Y))/m\n"
   ]
  },
  {
   "cell_type": "code",
   "execution_count": 21,
   "metadata": {},
   "outputs": [],
   "source": [
    "def back_prop(X,y, Z1, A1, Z2, A2, reg, eps):\n",
    "    \"\"\"\n",
    "     Return the gradient of parameters with respect to the loss after one foward pass \n",
    "     reg: regularisation parameter\n",
    "     eps: smoothed ReLU parameter epsilon\n",
    "     N: Number of points per class\n",
    "     X: dimension [2N, n_x]\n",
    "     n_x: number of inputs nodes\n",
    "     n_y: number of output nodes\n",
    "     n_h: number of hidden nodes\n",
    "     \"\"\"\n",
    "    \n",
    "    m = X.shape[0]                # Number of data points in total, 2N\n",
    "    \n",
    "    dZ2 = 2*(A2 - y)/m              # Derivative of cross-entropy loss is (A2-y), [m,1]\n",
    "    dZ2 = dZ2*sigmoid_prime(Z2)   # Derivative with respect to Z2, [m,1]\n",
    "\n",
    "    dW2 = np.dot(A1.T, dZ2)                     # Derivative with respect to W2, [n_h, n_y ]\n",
    "    db2 = np.sum(dZ2, axis=0, keepdims=True)    # Derivative with respect to b2, [1, n_y ]\n",
    "\n",
    "    dA1 = np.dot(dZ2, W2.T)                             # Derivative with respect to A1, [m, n_h]\n",
    "    dZ1 = np.multiply(dA1, SReLU_prime(Z1,eps))  # Derivative with respect to Z1, [m, n_h]\n",
    "    \n",
    "    # Derivative with respect to epsilon, [1, n_h]\n",
    "    depsilon = np.sum(np.multiply(dA1,  SReLU_prime_wrt_eps(Z1, eps)), axis = 0, keepdims=True)\n",
    "    \n",
    "    dW1 = np.dot(X.T, dZ1)                   # Derivative with respect to W1, [n_x, n_h]\n",
    "    db1 = np.sum(dZ1, axis=0, keepdims=True) # Derivative with respect to b1, [1, n_h]\n",
    "\n",
    "    dW2 = dW2 + reg * W2 # regularisation of weight W2\n",
    "    dW1 = dW1 + reg * W1 # regularisation of weight W1\n",
    "\n",
    "    return dW1, db1, dW2, db2, depsilon"
   ]
  },
  {
   "cell_type": "code",
   "execution_count": 22,
   "metadata": {},
   "outputs": [],
   "source": [
    "def update_parameters(W1, b1, W2, b2, epsilon_vector, dW1, db1, dW2, db2, depsilon_vector, learning_rate):\n",
    "    \"\"\"\n",
    "    Returns the updated values of the parameters \n",
    "    after the given interation \n",
    "    \"\"\"\n",
    "    \n",
    "    W1 = W1 - dW1 * learning_rate\n",
    "    b1 = b1 - db1 * learning_rate\n",
    "    W2 = W2 - dW2 * learning_rate\n",
    "    b2 = b2 - db2 * learning_rate\n",
    "    epsilon_vector = epsilon_vector - depsilon_vector * 0.001\n",
    "    \n",
    "    return W1, b1, W2, b2, epsilon_vector"
   ]
  },
  {
   "cell_type": "code",
   "execution_count": 23,
   "metadata": {},
   "outputs": [],
   "source": [
    "C = X.shape[0]\n",
    "np.random.seed(5)\n",
    "# You need to shuffle the data in order to get blue and red points in all the sets\n",
    "perm = np.random.permutation(len(X)) # This allows us to shuffle data without losing the labels on the y-vector\n",
    "X_shuffle= X[perm]\n",
    "y_shuffle = y[perm]\n",
    "np.random.seed(None)\n",
    "\n",
    "# We define a size for train set\n",
    "train_index = int(0.7*C)"
   ]
  },
  {
   "cell_type": "code",
   "execution_count": 24,
   "metadata": {},
   "outputs": [],
   "source": [
    "# Create sets, same method as for SGD\n",
    "X_train, y_train = X_shuffle[:train_index,:], y_shuffle[:train_index] \n",
    "X_test, y_test = X_shuffle[train_index:,:], y_shuffle[train_index:]"
   ]
  },
  {
   "cell_type": "code",
   "execution_count": 25,
   "metadata": {},
   "outputs": [],
   "source": [
    "# Setting parameters\n",
    "epochs = 100000\n",
    "learning_rate = 0.1\n",
    "runs = 100\n",
    "reg = 1e-3\n",
    "sample_size = 0.1\n",
    "batch_size = int(sample_size*C*0.7)\n",
    "n_h = 11\n",
    "n_x = 2\n",
    "n_y = 1"
   ]
  },
  {
   "cell_type": "code",
   "execution_count": 26,
   "metadata": {},
   "outputs": [],
   "source": [
    "accuracy_test = np.zeros(runs)\n",
    "losses_test =  np.zeros(runs)\n",
    "epsilons =  np.zeros((runs,n_h))\n",
    "plot_epsilon= np.zeros([runs, epochs+1, n_h])\n",
    "losses_train = np.zeros((runs,epochs))\n",
    "    \n",
    "for n in range(runs):\n",
    "    \n",
    "    W1, b1, W2, b2 = initialize_parameters(2,1,n_h)\n",
    "    epsilon_vector = np.random.uniform(0.2,0.8,(1,n_h))\n",
    "    plot_epsilon[n,0,:]= epsilon_vector\n",
    "        \n",
    "    for i in range(epochs):\n",
    "    \n",
    "        index = np.random.randint(0, train_index , batch_size)\n",
    "        X_i = X_train[index,:]\n",
    "        y_i = y_train[index]\n",
    "\n",
    "        Z1, A1, Z2, A2 = forward_prop(X_i, W1, b1, W2, b2, epsilon_vector)\n",
    "            \n",
    "        dW1, db1, dW2, db2, depsilon= back_prop(X_i, y_i, Z1, A1, Z2, A2, reg, epsilon_vector)\n",
    "        \n",
    "        W1, b1, W2, b2, epsilon_vector = update_parameters(W1, b1, W2, b2, epsilon_vector, \n",
    "                                                      dW1, db1, dW2, db2, depsilon, learning_rate) \n",
    "        plot_epsilon[n,i+1, :] = epsilon_vector\n",
    "        pc_train =sigmoid(np.dot(SReLU(np.dot(X_i, W1) + b1,epsilon_vector), W2) + b2)\n",
    "        reg_loss = 0.5*reg*np.sum(W1*W1) + 0.5*reg*np.sum(W2*W2)\n",
    "        losses_train[n, i] =  cost(y_i, pc_train) + reg_loss\n",
    "            \n",
    "    pc_test =sigmoid(np.dot(SReLU(np.dot(X_test, W1) + b1, epsilon_vector), W2) + b2)\n",
    "    accuracy_test[n] = (100*np.mean((pc_test >0.5) == y_test))\n",
    "    \n",
    "    reg_loss = 0.5*reg*np.sum(W1*W1) + 0.5*reg*np.sum(W2*W2)\n",
    "    losses_test[n] =  cost(y_test, pc_test) + reg_loss  # We only care about the last loss of the training \n",
    "    epsilons[n,:] = epsilon_vector"
   ]
  },
  {
   "cell_type": "code",
   "execution_count": 27,
   "metadata": {},
   "outputs": [
    {
     "name": "stdout",
     "output_type": "stream",
     "text": [
      "Stochastic Gradient Descent 360-spiral\n",
      "Epochs: 1000\n",
      "Number of neurons: 11\n",
      "Learning rate: 0.10\n",
      "Mean Accuracy: 64.52 %\n",
      "Std: 1.90 %\n",
      "Mean Loss: 0.23\n",
      "Std: 0.01\n",
      "Mean Epsilon Values: 0.511 0.474 0.487 0.49 0.51 0.519 0.523 0.493 0.523 0.499 0.489\n",
      "Std: 0.167 0.168 0.179 0.178 0.162 0.175 0.184 0.164 0.18 0.19 0.185\n"
     ]
    }
   ],
   "source": [
    "print('Stochastic Gradient Descent 540-spiral')\n",
    "print('Epochs: %.0f' % epochs)\n",
    "print('Number of neurons: %.0f' % n_h)\n",
    "print('Learning rate: %.2f' % learning_rate)\n",
    "print('Mean Accuracy: %.2f %%' % np.mean(accuracy_test))\n",
    "print('Std: %.2f %%' % np.std(accuracy_test))\n",
    "print('Mean Loss: %.2f' % np.mean(losses_test))\n",
    "print('Std: %.2f' % np.std(losses_test))\n",
    "print('Mean Epsilon Values: ' + ' '.join(map(str, np.around(np.mean(epsilons,axis = 0),3))))\n",
    "print('Std: ' + ' '.join(map(str, np.around(np.std(epsilons,axis = 0),3))))"
   ]
  },
  {
   "cell_type": "code",
   "execution_count": 28,
   "metadata": {},
   "outputs": [
    {
     "data": {
      "image/png": "[encoded data removed]",
      "text/plain": [
       "<Figure size 720x576 with 2 Axes>"
      ]
     },
     "metadata": {
      "needs_background": "light"
     },
     "output_type": "display_data"
    }
   ],
   "source": [
    "x = np.linspace(0,epochs+1,epochs+1)\n",
    "epsilons_mean = np.mean(plot_epsilon, axis=0)\n",
    "losses_mean = np.mean(losses_train, axis = 0)\n",
    "\n",
    "fig, ax1 = plt.subplots(figsize=(10,8))\n",
    "ax1.set_xlabel('Epochs', fontsize = 20)\n",
    "ax1.set_ylabel(r'$\\varepsilon$ value', fontsize = 20)\n",
    "ax1.plot(x, epsilons_mean, label=r'$\\varepsilon$', linewidth=3)\n",
    "ax1.tick_params(axis='y')\n",
    "plt.xticks(fontsize = 15)\n",
    "plt.yticks(fontsize = 15) \n",
    "\n",
    "x = np.linspace(0,epochs,epochs)\n",
    "\n",
    "ax2 = ax1.twinx()  # instantiate a second axes that shares the same x-axis\n",
    "ax2.set_ylabel('Mean Loss', color='black', fontsize = 20) # we already handled the x-label with ax1\n",
    "ax2.plot(x,losses_mean, color='black', label='Training loss', linewidth=3)\n",
    "ax2.tick_params(axis='y', labelcolor='black')\n",
    "\n",
    "h1, l1 = ax1.get_legend_handles_labels()\n",
    "h2, l2 = ax2.get_legend_handles_labels()\n",
    "ax1.legend(h2, l2, loc=0, fontsize=15)\n",
    "plt.xticks(fontsize = 15) \n",
    "plt.yticks(fontsize = 15) \n",
    "\n",
    "fig.tight_layout()\n",
    "plt.show()"
   ]
  },
  {
   "cell_type": "code",
   "execution_count": null,
   "metadata": {},
   "outputs": [],
   "source": []
  }
 ],
 "metadata": {
  "kernelspec": {
   "display_name": "Python 3",
   "language": "python",
   "name": "python3"
  },
  "language_info": {
   "codemirror_mode": {
    "name": "ipython",
    "version": 3
   },
   "file_extension": ".py",
   "mimetype": "text/x-python",
   "name": "python",
   "nbconvert_exporter": "python",
   "pygments_lexer": "ipython3",
   "version": "3.7.3"
  }
 },
 "nbformat": 4,
 "nbformat_minor": 2
}
