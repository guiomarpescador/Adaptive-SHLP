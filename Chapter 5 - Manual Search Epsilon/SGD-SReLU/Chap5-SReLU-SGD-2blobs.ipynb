{
 "cells": [
  {
   "cell_type": "code",
   "execution_count": 65,
   "metadata": {},
   "outputs": [],
   "source": [
    "import numpy as np\n",
    "import matplotlib.pyplot as plt\n",
    "\n",
    "plt.rcParams['figure.figsize'] = (10.0, 8.0) \n",
    "plt.rcParams['image.interpolation'] = 'nearest'\n",
    "plt.rcParams['image.cmap'] = 'Spectral'"
   ]
  },
  {
   "cell_type": "code",
   "execution_count": 66,
   "metadata": {},
   "outputs": [],
   "source": [
    "def sigmoid(z) :\n",
    "    \"\"\"\n",
    "    Returns the sigmoid function of the given input\n",
    "    \"\"\"\n",
    "    return 1 /(1 + np.exp(-z))\n",
    "\n",
    "def sigmoid_prime(z) :\n",
    "    \"\"\"\n",
    "    Returns the derivative of the sigmoid function of the given input\n",
    "    \"\"\"\n",
    "    return sigmoid(z)*(1-sigmoid(z))\n",
    "\n",
    "def fp(x, eps):\n",
    "    \"\"\"\n",
    "    Returns the value the smooth_relu takes in the interval -eps to eps\n",
    "    \n",
    "    The polynomial satifies the following conditions:\n",
    "    fp(eps) = eps\n",
    "    fp'(eps) = 1\n",
    "    fp(-eps) = 0\n",
    "    fp'(-eps) = 0\n",
    "    \n",
    "    \"\"\"\n",
    "    a_0 = eps/4\n",
    "    a_1 = 0.5\n",
    "    a_2 = 1/(4*eps)\n",
    "    a_3 = 0\n",
    "    \n",
    "    return  a_0 + a_1*x + a_2*x**2 + a_3*x**3 \n",
    "\n",
    "def smooth_relu(x, eps):\n",
    "    \"\"\"\n",
    "    Returns a smoothed ReLU function with parameter epsilon\n",
    "    \"\"\"\n",
    "    return fp(x, eps)*(np.abs(x) < eps) + x*(x >= eps)\n",
    "\n",
    "\n",
    "def fp_prime(x, eps):\n",
    "    \"\"\"\n",
    "    Returns derivative of the fp(x) with respect to x\n",
    "    \"\"\"\n",
    "    a_0 = eps/4\n",
    "    a_1 = 0.5\n",
    "    a_2 = 1/(4*eps)\n",
    "    a_3 = 0\n",
    "    \n",
    "    return  a_1 + 2*a_2*x + 3*a_3*x**2 \n",
    "\n",
    "def smooth_relu_prime(x,eps):\n",
    "    \"\"\"\n",
    "    Returns the derivative of the smooth relu function\n",
    "    \"\"\"\n",
    "    return fp_prime(x, eps)*(np.abs(x) < eps) + 1*(x >= eps)\n",
    "\n",
    "def relu(z): \n",
    "    \"\"\"\n",
    "    Returns the rectified linear unit applied to the given input \n",
    "    \"\"\"\n",
    "    return np.maximum(0,z)\n",
    "\n",
    "def relu_prime(z) :\n",
    "    \"\"\"\n",
    "    Returns the derivative of rectified linear unit applied to the given input \n",
    "    \"\"\"\n",
    "    return 1*(z>=0)\n",
    "\n",
    "def smooth_relu_prime_wrt_eps(x,eps):\n",
    "    \"\"\"\n",
    "    Returns the derivative of the smooth relu function\n",
    "    with respect to epsilon given the input and parameter eps\n",
    "    \"\"\"\n",
    "    return (1/4-(x**2)/(4*eps**2))*(np.abs(x) < eps)"
   ]
  },
  {
   "cell_type": "code",
   "execution_count": 67,
   "metadata": {},
   "outputs": [
    {
     "data": {
      "image/png": "[encoded data removed]",
      "text/plain": [
       "<Figure size 720x576 with 1 Axes>"
      ]
     },
     "metadata": {
      "needs_background": "light"
     },
     "output_type": "display_data"
    }
   ],
   "source": [
    "from sklearn.datasets import make_blobs\n",
    "\n",
    "N = 400 # no. points\n",
    "\n",
    "X, y = make_blobs(n_samples = N, centers = [(2,-2),(-2,2)], \n",
    "                  n_features = 2, cluster_std = 0.8, random_state = 1)\n",
    "labels_orig = y\n",
    "y = np.mod(labels_orig, 2)\n",
    "y = y.reshape(y.shape[0],1)\n",
    "\n",
    "plt.title('2 Gaussian Blobs dataset')\n",
    "plt.plot(X[y[:,0]==0,0], X[y[:,0]==0,1], color='tab:red', marker='.', linestyle='None',label='class 1')\n",
    "plt.plot(X[y[:,0]==1,0], X[y[:,0]==1,1], color='tab:blue', marker='.', linestyle='None', label='class 2')\n",
    "plt.legend()\n",
    "plt.show()"
   ]
  },
  {
   "cell_type": "code",
   "execution_count": 68,
   "metadata": {},
   "outputs": [],
   "source": [
    "def plotboundary_accuracy(X, y, W1, b1, W2, b2,eps):\n",
    "    \"\"\"\n",
    "    Returns the accuracy for the given parameters and plots the decision boundary of the data\n",
    "    \"\"\"\n",
    "    predicted_class = sigmoid(np.dot(smooth_relu(np.dot(X, W1) + b1,eps), W2) + b2)\n",
    "    print('Accuracy: %.2f %%' % (100*np.mean((predicted_class >0.5) == y)))\n",
    "\n",
    "    x_min, x_max = X[:, 0].min() - 1, X[:, 0].max() + 1\n",
    "    y_min, y_max = X[:, 1].min() - 1, X[:, 1].max() + 1\n",
    "    xx, yy = np.meshgrid(np.arange(x_min, x_max, 0.02),np.arange(y_min, y_max, 0.02))\n",
    "    Z_axis = sigmoid(np.dot(smooth_relu(np.dot(np.c_[xx.ravel(), yy.ravel()], W1) + b1,eps), W2) + b2)\n",
    "    Z_axis = (Z_axis > 0.5)\n",
    "    Z_axis = Z_axis.reshape(xx.shape)\n",
    "    plt.contourf(xx, yy, Z_axis, cmap=plt.cm.Spectral, alpha=0.8)\n",
    "    plt.scatter(X[:, 0], X[:, 1], c=y[:,0], s=40, cmap=plt.cm.Spectral)\n",
    "    plt.xlim(xx.min(), xx.max())\n",
    "    plt.ylim(yy.min(), yy.max())"
   ]
  },
  {
   "cell_type": "code",
   "execution_count": 69,
   "metadata": {},
   "outputs": [],
   "source": [
    "def initialize_parameters(n_x,n_y,n_h):\n",
    "    \"\"\"\n",
    "     Initialization of the weights and biases for the neural network\n",
    "     n_x: number of inputs nodes\n",
    "     n_y: number of output nodes\n",
    "     n_h: number of hidden nodes\n",
    "    \"\"\"\n",
    "    #np.random.seed(1)                   # Random seed for weights\n",
    "    W1 = 1.0 * np.random.randn(n_x,n_h)/np.sqrt(n_x)  # [n_x, n_h ]\n",
    "    b1 = np.zeros((1,n_h))              # [1, n_h ]\n",
    "    W2 = 1.0 * np.random.randn(n_h,n_y)/np.sqrt(n_h) # [n_h, n_y ]\n",
    "    b2 = np.zeros((1,n_y))              # [1, n_y ]\n",
    "    #np.random.seed(None)              # Random seed for weighs\n",
    "    \n",
    "    return W1, b1, W2, b2   # Return initalise weights and biases"
   ]
  },
  {
   "cell_type": "code",
   "execution_count": 70,
   "metadata": {},
   "outputs": [],
   "source": [
    "def forward_prop(X, W1, b1, W2, b2,eps):\n",
    "    \"\"\"\n",
    "     Return the parameters after one foward pass \n",
    "     N: Number of points per class\n",
    "     X: dimension [2N, n_x]\n",
    "     n_x: number of inputs nodes\n",
    "     n_y: number of output nodes\n",
    "     n_h: number of hidden nodes\n",
    "     \n",
    "    \"\"\"\n",
    "    Z1 = np.dot(X, W1) + b1   # [2N, n_h]\n",
    "    A1 = smooth_relu(Z1,eps) # [2N, n_h]\n",
    "    Z2 = np.dot(A1, W2) + b2  # [2N, n_y]\n",
    "    A2 = sigmoid(Z2)          # [2N, n_y]\n",
    "    \n",
    "    return Z1, A1, Z2, A2"
   ]
  },
  {
   "cell_type": "code",
   "execution_count": 71,
   "metadata": {},
   "outputs": [],
   "source": [
    "def cost(Y, A2):\n",
    "    \"\"\"\n",
    "    Returns the L2 error between the predicted values \n",
    "    by the network A2 and the actual values of the data Y\n",
    "    \"\"\"\n",
    "    m = Y.shape[0]\n",
    "    return np.sum(np.square(A2-Y))/m"
   ]
  },
  {
   "cell_type": "code",
   "execution_count": 72,
   "metadata": {},
   "outputs": [],
   "source": [
    "def back_prop(X,y, Z1, A1, Z2, A2, reg, eps):\n",
    "    \"\"\"\n",
    "     Return the gradient of parameters with respect to the loss after one foward pass \n",
    "     reg: regularisation parameter\n",
    "     eps: smooth relu parameter epsilon\n",
    "     N: Number of points per class\n",
    "     X: dimension [2N, n_x]\n",
    "     n_x: number of inputs nodes\n",
    "     n_y: number of output nodes\n",
    "     n_h: number of hidden nodes\n",
    "     \"\"\"\n",
    "    \n",
    "    m = X.shape[0]                # Number of data points in total, 2N\n",
    "    \n",
    "    dZ2 = 2*(A2 - y)/m              # Derivative of cross-entropy loss is (A2-y), [m,1]\n",
    "    dZ2 = dZ2*sigmoid_prime(Z2)   # Derivative with respect to Z2, [m,1]\n",
    "\n",
    "    dW2 = np.dot(A1.T, dZ2)                     # Derivative with respect to W2, [n_h, n_y ]\n",
    "    db2 = np.sum(dZ2, axis=0, keepdims=True)    # Derivative with respect to b2, [1, n_y ]\n",
    "\n",
    "    dA1 = np.dot(dZ2, W2.T)                             # Derivative with respect to A1, [m, n_h]\n",
    "    dZ1 = np.multiply(dA1, smooth_relu_prime(Z1,eps))  # Derivative with respect to Z1, [m, n_h]\n",
    "    \n",
    "    dW1 = np.dot(X.T, dZ1)                   # Derivative with respect to W1, [n_x, n_h]\n",
    "    db1 = np.sum(dZ1, axis=0, keepdims=True) # Derivative with respect to b1, [1, n_h]\n",
    "\n",
    "    dW2 = dW2 + reg * W2 # regularisation of weight W2\n",
    "    dW1 = dW1 + reg * W1 # regularisation of weight W1\n",
    "\n",
    "    return dW1, db1, dW2, db2, "
   ]
  },
  {
   "cell_type": "code",
   "execution_count": 73,
   "metadata": {},
   "outputs": [],
   "source": [
    "def update_parameters(W1, b1, W2, b2, dW1, db1, dW2, db2, learning_rate):\n",
    "    \"\"\"\n",
    "    Returns the updated values of the parameters \n",
    "    after the given interation \n",
    "    \"\"\"\n",
    "    \n",
    "    W1 = W1 - dW1 * learning_rate\n",
    "    b1 = b1 - db1 * learning_rate\n",
    "    W2 = W2 - dW2 * learning_rate\n",
    "    b2 = b2 - db2 * learning_rate\n",
    "    \n",
    "    return W1, b1, W2, b2"
   ]
  },
  {
   "cell_type": "markdown",
   "metadata": {},
   "source": [
    "## Separating dataset"
   ]
  },
  {
   "cell_type": "code",
   "execution_count": 74,
   "metadata": {},
   "outputs": [],
   "source": [
    "np.random.seed(5)\n",
    "C = X.shape[0]\n",
    "# You need to shuffle the data in order to get blue and red points in all the sets\n",
    "perm = np.random.permutation(len(X)) # This allows us to shuffle data without losing the labels on the y-vector\n",
    "X_shuffle= X[perm]\n",
    "y_shuffle = y[perm]\n",
    "np.random.seed(None)\n",
    "\n",
    "# We define a size for train set\n",
    "train_index = int(0.7*C)"
   ]
  },
  {
   "cell_type": "code",
   "execution_count": 75,
   "metadata": {},
   "outputs": [],
   "source": [
    "# Create sets, same method as for SGD\n",
    "X_train, y_train = X_shuffle[:train_index,:], y_shuffle[:train_index] \n",
    "X_test, y_test = X_shuffle[train_index:,:], y_shuffle[train_index:]"
   ]
  },
  {
   "cell_type": "code",
   "execution_count": 76,
   "metadata": {},
   "outputs": [],
   "source": [
    "# Setting parameters\n",
    "epochs = 300\n",
    "learning_rate = 0.1\n",
    "runs = 10\n",
    "reg = 1e-3\n",
    "sample_size = 0.1\n",
    "batch_size = int(sample_size*C*0.7)"
   ]
  },
  {
   "cell_type": "code",
   "execution_count": 81,
   "metadata": {},
   "outputs": [],
   "source": [
    "epsilon = np.around(np.arange(0.1,0.9,0.04),3)\n",
    "E = len(epsilon)\n",
    "accuracy_std_test= np.zeros(E) \n",
    "accuracy_eps_test= np.zeros(E) \n",
    "means_test = np.zeros(E)\n",
    "std_test = np.zeros(E)"
   ]
  },
  {
   "cell_type": "markdown",
   "metadata": {},
   "source": [
    "## SGD Training"
   ]
  },
  {
   "cell_type": "code",
   "execution_count": 82,
   "metadata": {
    "scrolled": false
   },
   "outputs": [],
   "source": [
    "for k, eps in enumerate(epsilon):\n",
    "    \n",
    "    accuracy_test = np.zeros(runs)\n",
    "    losses_test =  np.zeros(runs)\n",
    "    \n",
    "    for n in range(runs):\n",
    "        n_h = 1\n",
    "        n_x = 2\n",
    "        n_y = 1\n",
    "        \n",
    "        W1, b1, W2, b2 = initialize_parameters(n_x,n_y,n_h)\n",
    "        \n",
    "        for i in range(epochs):\n",
    "            index = np.random.randint(0, train_index , batch_size)\n",
    "            X_i = X_train[index,:]\n",
    "            y_i = y_train[index]\n",
    "    \n",
    "            Z1, A1, Z2, A2 = forward_prop(X_i, W1, b1, W2, b2,eps)\n",
    "        \n",
    "            dW1, db1, dW2, db2 = back_prop(X_i, y_i, Z1, A1, Z2, A2, reg,eps)\n",
    "            W1, b1, W2, b2 = update_parameters(W1, b1, W2, b2, dW1, db1, dW2, db2, learning_rate)\n",
    "        \n",
    "        pc_test =sigmoid(np.dot(smooth_relu(np.dot(X_test, W1) + b1,eps), W2) + b2)\n",
    "        accuracy_test[n] = (100*np.mean((pc_test >0.5) == y_test))\n",
    "    \n",
    "        reg_loss = 0.5*reg*np.sum(W1*W1) + 0.5*reg*np.sum(W2*W2)\n",
    "        losses_test[n] =  cost(y_test, pc_test) + reg_loss  # We only care about the last loss of the training \n",
    "    \n",
    "    accuracy_eps_test[k] = np.mean(accuracy_test)\n",
    "    means_test[k], std_test[k]= np.mean(losses_test), np.std(losses_test) "
   ]
  },
  {
   "cell_type": "code",
   "execution_count": 83,
   "metadata": {},
   "outputs": [
    {
     "name": "stdout",
     "output_type": "stream",
     "text": [
      "epsilon: 0.1 Accuracy: 99.25000 % Std: 0.00000 % Loss: 0.0309 Std 0.0044\n",
      "epsilon: 0.14 Accuracy: 99.66667 % Std: 0.00000 % Loss: 0.0241 Std 0.0043\n",
      "epsilon: 0.18 Accuracy: 99.58333 % Std: 0.00000 % Loss: 0.0258 Std 0.0025\n",
      "epsilon: 0.22 Accuracy: 99.66667 % Std: 0.00000 % Loss: 0.0268 Std 0.0063\n",
      "epsilon: 0.26 Accuracy: 99.00000 % Std: 0.00000 % Loss: 0.0299 Std 0.0039\n",
      "epsilon: 0.3 Accuracy: 99.58333 % Std: 0.00000 % Loss: 0.0269 Std 0.0047\n",
      "epsilon: 0.34 Accuracy: 99.66667 % Std: 0.00000 % Loss: 0.0258 Std 0.0043\n",
      "epsilon: 0.38 Accuracy: 99.25000 % Std: 0.00000 % Loss: 0.0443 Std 0.0305\n",
      "epsilon: 0.42 Accuracy: 99.75000 % Std: 0.00000 % Loss: 0.0274 Std 0.0097\n",
      "epsilon: 0.46 Accuracy: 94.33333 % Std: 0.00000 % Loss: 0.0763 Std 0.1568\n",
      "epsilon: 0.5 Accuracy: 99.16667 % Std: 0.00000 % Loss: 0.0288 Std 0.0048\n",
      "epsilon: 0.54 Accuracy: 99.66667 % Std: 0.00000 % Loss: 0.0262 Std 0.0076\n",
      "epsilon: 0.58 Accuracy: 99.66667 % Std: 0.00000 % Loss: 0.0260 Std 0.0048\n",
      "epsilon: 0.62 Accuracy: 99.25000 % Std: 0.00000 % Loss: 0.0280 Std 0.0051\n",
      "epsilon: 0.66 Accuracy: 99.50000 % Std: 0.00000 % Loss: 0.0296 Std 0.0076\n",
      "epsilon: 0.7 Accuracy: 99.50000 % Std: 0.00000 % Loss: 0.0294 Std 0.0083\n",
      "epsilon: 0.74 Accuracy: 99.16667 % Std: 0.00000 % Loss: 0.0291 Std 0.0048\n",
      "epsilon: 0.78 Accuracy: 99.50000 % Std: 0.00000 % Loss: 0.0273 Std 0.0041\n",
      "epsilon: 0.82 Accuracy: 99.41667 % Std: 0.00000 % Loss: 0.0323 Std 0.0140\n",
      "epsilon: 0.86 Accuracy: 94.50000 % Std: 0.00000 % Loss: 0.0759 Std 0.1548\n"
     ]
    }
   ],
   "source": [
    "for i in range(E): \n",
    "    print('epsilon:',round(epsilon[i],3), 'Accuracy: %.5f %%' %accuracy_eps_test[i], 'Std: %.5f %%' %accuracy_std_test[i],  'Loss: %.4f' %means_test[i],   'Std %.4f' %std_test[i])"
   ]
  },
  {
   "cell_type": "code",
   "execution_count": 84,
   "metadata": {},
   "outputs": [
    {
     "name": "stdout",
     "output_type": "stream",
     "text": [
      "epsilon: 0.18 Accuracy: 99.58333 % Std: 0.00000 % Loss: 0.0258 Std 0.0025\n",
      "epsilon: 0.34 Accuracy: 99.66667 % Std: 0.00000 % Loss: 0.0258 Std 0.0043\n",
      "epsilon: 0.14 Accuracy: 99.66667 % Std: 0.00000 % Loss: 0.0241 Std 0.0043\n"
     ]
    }
   ],
   "source": [
    "indices = means_test.argsort()[:3][::-1]\n",
    "epsilon_test = np.array(epsilon)[indices.astype(int)] \n",
    "for i in indices: \n",
    "     print('epsilon:',round(epsilon[i],3), 'Accuracy: %.5f %%' %accuracy_eps_test[i], 'Std: %.5f %%' %accuracy_std_test[i],  'Loss: %.4f' %means_test[i],   'Std %.4f' %std_test[i])"
   ]
  },
  {
   "cell_type": "code",
   "execution_count": 86,
   "metadata": {
    "scrolled": false
   },
   "outputs": [
    {
     "data": {
      "image/png": "[encoded data removed]",
      "text/plain": [
       "<Figure size 1152x576 with 2 Axes>"
      ]
     },
     "metadata": {},
     "output_type": "display_data"
    }
   ],
   "source": [
    "# Plotting\n",
    "fig,ax2 = plt.subplots(figsize=(16, 8))\n",
    "ax2.set_xlabel(r'$\\varepsilon$',  fontsize=20)\n",
    "ax2.set_ylabel('Loss', color='tab:orange', fontsize=20)\n",
    "ax2.errorbar(epsilon, means_test, linestyle='None', marker='o', color='tab:orange', markersize=8)\n",
    "ax2.tick_params(axis='y', labelcolor='tab:orange')\n",
    "plt.title(r' Loss with respect to $\\varepsilon$ values 2-blobs',fontsize=20)\n",
    "plt.xticks(fontsize = 15) \n",
    "plt.yticks(fontsize = 15)\n",
    "\n",
    "ax3 = ax2.twinx()  # instantiate a second axes that shares the same x-axis\n",
    "ax3.set_ylabel('Accuracy', color='tab:green', fontsize=20)  # we already handled the x-label with ax1\n",
    "ax3.errorbar(epsilon, accuracy_eps_test, linestyle='None', marker='o', color='tab:green')\n",
    "ax3.tick_params(axis='y', labelcolor='tab:green')\n",
    "\n",
    "fig.tight_layout()  # otherwise the right y-label is slightly clipped\n",
    "plt.show()"
   ]
  },
  {
   "cell_type": "code",
   "execution_count": null,
   "metadata": {},
   "outputs": [],
   "source": []
  }
 ],
 "metadata": {
  "kernelspec": {
   "display_name": "Python 3",
   "language": "python",
   "name": "python3"
  },
  "language_info": {
   "codemirror_mode": {
    "name": "ipython",
    "version": 3
   },
   "file_extension": ".py",
   "mimetype": "text/x-python",
   "name": "python",
   "nbconvert_exporter": "python",
   "pygments_lexer": "ipython3",
   "version": "3.7.3"
  }
 },
 "nbformat": 4,
 "nbformat_minor": 2
}
